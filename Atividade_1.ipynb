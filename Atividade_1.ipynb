{
  "cells": [
    {
      "cell_type": "code",
      "execution_count": null,
      "id": "0a6edc88",
      "metadata": {
        "id": "0a6edc88"
      },
      "outputs": [],
      "source": [
        "import pandas as pd\n",
        "import numpy as np\n",
        "import seaborn as sns\n",
        "from sklearn.model_selection import train_test_split\n",
        "from sklearn.metrics import confusion_matrix, accuracy_score, classification_report\n",
        "from sklearn.preprocessing import StandardScaler\n",
        "from sklearn.model_selection import StratifiedKFold\n",
        "from sklearn.model_selection import GridSearchCV\n",
        "\n",
        "#algoritmos\n",
        "from sklearn.svm import SVC\n",
        "from sklearn.neighbors import KNeighborsClassifier\n",
        "\n"
      ]
    },
    {
      "cell_type": "markdown",
      "id": "4bb8426f",
      "metadata": {
        "id": "4bb8426f"
      },
      "source": [
        "Leitura do dataset:"
      ]
    },
    {
      "cell_type": "code",
      "execution_count": null,
      "id": "9da4a6c8",
      "metadata": {
        "id": "9da4a6c8"
      },
      "outputs": [],
      "source": [
        "df = pd.read_csv(\"C:/Users/Gustavo_Aldama/Jedi/Jedi/fraud_detection_bank_dataset.csv\")"
      ]
    },
    {
      "cell_type": "markdown",
      "id": "74c52e1b",
      "metadata": {
        "id": "74c52e1b"
      },
      "source": [
        "Extração dos dados do arquivo:"
      ]
    },
    {
      "cell_type": "code",
      "execution_count": null,
      "id": "5300fbd3",
      "metadata": {
        "id": "5300fbd3"
      },
      "outputs": [],
      "source": [
        "X = df.drop([\"targets\"], axis = 1).values\n",
        "y = df[\"targets\"].values"
      ]
    },
    {
      "cell_type": "markdown",
      "id": "3a7a2b7d",
      "metadata": {
        "id": "3a7a2b7d"
      },
      "source": [
        "Divisão dos dados em treinamento + teste e validação no formato 80/20:"
      ]
    },
    {
      "cell_type": "code",
      "execution_count": null,
      "id": "b6f61895",
      "metadata": {
        "id": "b6f61895"
      },
      "outputs": [],
      "source": [
        "X_train, X_test, y_train, y_test = train_test_split(X, y, random_state = 0, test_size=0.20)"
      ]
    },
    {
      "cell_type": "markdown",
      "id": "31507eb3",
      "metadata": {
        "id": "31507eb3"
      },
      "source": [
        "Processamento dos dados para uso nos algoritmos:"
      ]
    },
    {
      "cell_type": "code",
      "execution_count": null,
      "id": "2408260d",
      "metadata": {
        "id": "2408260d"
      },
      "outputs": [],
      "source": [
        "scaler = StandardScaler()\n",
        "scaler.fit(X_train)\n",
        "\n",
        "X_train = scaler.transform(X_train)\n",
        "X_test = scaler.transform(X_test)"
      ]
    },
    {
      "cell_type": "markdown",
      "id": "4cf5731c",
      "metadata": {
        "id": "4cf5731c"
      },
      "source": [
        "Aplicação do SVM, com kernel rbf, com validação cruzada de k=5 para descobrir qual melhor parâmetro:"
      ]
    },
    {
      "cell_type": "code",
      "execution_count": null,
      "id": "c2a16e32",
      "metadata": {
        "id": "c2a16e32",
        "outputId": "ffa7c2b4-4962-4f90-fa5c-6e69f3007e5f"
      },
      "outputs": [
        {
          "data": {
            "text/plain": [
              "SVC(gamma=0.01)"
            ]
          },
          "execution_count": 6,
          "metadata": {},
          "output_type": "execute_result"
        }
      ],
      "source": [
        "param_grid = {'gamma': [1,0.1,0.01,0.001,0.0001],'kernel':['rbf']}\n",
        "grid = GridSearchCV(SVC(), param_grid, cv = 5)\n",
        "grid.fit(X_train, y_train)\n",
        "(grid.best_params_)\n",
        "(grid.best_estimator_)"
      ]
    },
    {
      "cell_type": "code",
      "execution_count": null,
      "id": "fd6704b6",
      "metadata": {
        "id": "fd6704b6",
        "outputId": "9fbb70dc-ba26-4cfa-8d9c-0ee14a1d258e"
      },
      "outputs": [
        {
          "data": {
            "text/plain": [
              "<AxesSubplot:>"
            ]
          },
          "execution_count": 7,
          "metadata": {},
          "output_type": "execute_result"
        },
        {
          "data": {
            "image/png": "[encoded data removed]",
            "text/plain": [
              "<Figure size 864x576 with 2 Axes>"
            ]
          },
          "metadata": {},
          "output_type": "display_data"
        }
      ],
      "source": [
        "pred = grid.predict(X_test)\n",
        "\n",
        "c_matrix = confusion_matrix(pred, y_test)\n",
        "\n",
        "sns.set(style=\"ticks\", color_codes=True, rc={\"figure.figsize\": (12, 8)}, font_scale=1.2)\n",
        "sns.heatmap(c_matrix, annot=True, annot_kws={\"size\": 12})"
      ]
    },
    {
      "cell_type": "code",
      "execution_count": null,
      "id": "139f54f0",
      "metadata": {
        "id": "139f54f0",
        "outputId": "38c922bc-f089-4dd7-c35f-bbf1d24ee455"
      },
      "outputs": [
        {
          "name": "stdout",
          "output_type": "stream",
          "text": [
            "              precision    recall  f1-score   support\n",
            "\n",
            "           0       0.99      0.99      0.99      3033\n",
            "           1       0.98      0.96      0.97      1061\n",
            "\n",
            "    accuracy                           0.98      4094\n",
            "   macro avg       0.98      0.98      0.98      4094\n",
            "weighted avg       0.98      0.98      0.98      4094\n",
            "\n"
          ]
        }
      ],
      "source": [
        "grid_predictions = grid.predict(X_test)\n",
        "print(classification_report(y_test, grid_predictions))"
      ]
    },
    {
      "cell_type": "markdown",
      "id": "75883e3e",
      "metadata": {
        "id": "75883e3e"
      },
      "source": [
        "Aplicação do KNN, com validação cruzada de k=5 para descobrir qual melhor parâmetro:"
      ]
    },
    {
      "cell_type": "code",
      "execution_count": null,
      "id": "2ecf2f8e",
      "metadata": {
        "id": "2ecf2f8e",
        "outputId": "7a4f2849-27a6-4ad1-a235-5460c77f8a98"
      },
      "outputs": [
        {
          "name": "stdout",
          "output_type": "stream",
          "text": [
            "{'n_neighbors': 145}\n"
          ]
        },
        {
          "data": {
            "text/plain": [
              "KNeighborsClassifier(n_neighbors=145)"
            ]
          },
          "execution_count": 9,
          "metadata": {},
          "output_type": "execute_result"
        }
      ],
      "source": [
        "param_grid2 = {'gamma': [3,4,5,6,7,8,9],'kernel':['rbf']}\n",
        "k_range = list(range(100, 200))\n",
        "param_grid2 = dict(n_neighbors=k_range)\n",
        "grid2 = GridSearchCV(KNeighborsClassifier(), param_grid2, cv = 5)\n",
        "grid2.fit(X_train, y_train)\n",
        "print((grid2.best_params_))\n",
        "(grid2.best_estimator_)"
      ]
    },
    {
      "cell_type": "code",
      "execution_count": null,
      "id": "12315dc4",
      "metadata": {
        "id": "12315dc4",
        "outputId": "7c7201b3-c668-410c-eaad-2d69d9bb1120"
      },
      "outputs": [
        {
          "data": {
            "text/plain": [
              "<AxesSubplot:>"
            ]
          },
          "execution_count": 10,
          "metadata": {},
          "output_type": "execute_result"
        },
        {
          "data": {
            "image/png": "[encoded data removed]",
            "text/plain": [
              "<Figure size 864x576 with 2 Axes>"
            ]
          },
          "metadata": {},
          "output_type": "display_data"
        }
      ],
      "source": [
        "pred2 = grid2.predict(X_test)\n",
        "\n",
        "c_matrix2 = confusion_matrix(pred2, y_test)\n",
        "\n",
        "sns.set(style=\"ticks\", color_codes=True, rc={\"figure.figsize\": (12, 8)}, font_scale=1.2)\n",
        "sns.heatmap(c_matrix2, annot=True, annot_kws={\"size\": 12})"
      ]
    },
    {
      "cell_type": "code",
      "execution_count": null,
      "id": "6a3b624d",
      "metadata": {
        "id": "6a3b624d",
        "outputId": "3af7ccef-8f21-438c-dd72-af9447c9aa58"
      },
      "outputs": [
        {
          "name": "stdout",
          "output_type": "stream",
          "text": [
            "              precision    recall  f1-score   support\n",
            "\n",
            "           0       0.93      0.98      0.96      3033\n",
            "           1       0.93      0.80      0.86      1061\n",
            "\n",
            "    accuracy                           0.93      4094\n",
            "   macro avg       0.93      0.89      0.91      4094\n",
            "weighted avg       0.93      0.93      0.93      4094\n",
            "\n"
          ]
        }
      ],
      "source": [
        "grid2_predictions = grid2.predict(X_test)\n",
        "print(classification_report(y_test, grid2_predictions))"
      ]
    },
    {
      "cell_type": "code",
      "execution_count": null,
      "id": "349ca0a5",
      "metadata": {
        "id": "349ca0a5"
      },
      "outputs": [],
      "source": [
        ""
      ]
    }
  ],
  "metadata": {
    "kernelspec": {
      "display_name": "Python 3 (ipykernel)",
      "language": "python",
      "name": "python3"
    },
    "language_info": {
      "codemirror_mode": {
        "name": "ipython",
        "version": 3
      },
      "file_extension": ".py",
      "mimetype": "text/x-python",
      "name": "python",
      "nbconvert_exporter": "python",
      "pygments_lexer": "ipython3",
      "version": "3.9.7"
    },
    "colab": {
      "name": "ICA_SVM_KNN_.ipynb",
      "provenance": []
    }
  },
  "nbformat": 4,
  "nbformat_minor": 5
}